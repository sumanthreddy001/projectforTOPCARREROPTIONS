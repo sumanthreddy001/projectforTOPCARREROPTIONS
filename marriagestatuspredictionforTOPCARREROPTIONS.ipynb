{
 "cells": [
  {
   "cell_type": "code",
   "execution_count": 152,
   "metadata": {},
   "outputs": [],
   "source": [
    "import pandas as pd\n",
    "import numpy as np\n",
    "import sklearn\n",
    "#importing packages\n"
   ]
  },
  {
   "cell_type": "code",
   "execution_count": 153,
   "metadata": {},
   "outputs": [],
   "source": [
    "dataset = pd.read_csv(\"D:/ml datasets/pr/Marriage-status-Prediction-master/Marriage_training.csv\")"
   ]
  },
  {
   "cell_type": "code",
   "execution_count": 154,
   "metadata": {},
   "outputs": [
    {
     "data": {
      "text/html": [
       "<div>\n",
       "<style scoped>\n",
       "    .dataframe tbody tr th:only-of-type {\n",
       "        vertical-align: middle;\n",
       "    }\n",
       "\n",
       "    .dataframe tbody tr th {\n",
       "        vertical-align: top;\n",
       "    }\n",
       "\n",
       "    .dataframe thead th {\n",
       "        text-align: right;\n",
       "    }\n",
       "</style>\n",
       "<table border=\"1\" class=\"dataframe\">\n",
       "  <thead>\n",
       "    <tr style=\"text-align: right;\">\n",
       "      <th></th>\n",
       "      <th>ID</th>\n",
       "      <th>GAGE</th>\n",
       "      <th>BAGE</th>\n",
       "      <th>GP</th>\n",
       "      <th>BP</th>\n",
       "      <th>AINCOME</th>\n",
       "      <th>STATUS</th>\n",
       "    </tr>\n",
       "  </thead>\n",
       "  <tbody>\n",
       "    <tr>\n",
       "      <th>0</th>\n",
       "      <td>1</td>\n",
       "      <td>41</td>\n",
       "      <td>41</td>\n",
       "      <td>A</td>\n",
       "      <td>B</td>\n",
       "      <td>113764</td>\n",
       "      <td>Married</td>\n",
       "    </tr>\n",
       "    <tr>\n",
       "      <th>1</th>\n",
       "      <td>2</td>\n",
       "      <td>53</td>\n",
       "      <td>43</td>\n",
       "      <td>A</td>\n",
       "      <td>A</td>\n",
       "      <td>145963</td>\n",
       "      <td>Separated</td>\n",
       "    </tr>\n",
       "    <tr>\n",
       "      <th>2</th>\n",
       "      <td>3</td>\n",
       "      <td>47</td>\n",
       "      <td>37</td>\n",
       "      <td>A</td>\n",
       "      <td>B</td>\n",
       "      <td>42857</td>\n",
       "      <td>Divorced</td>\n",
       "    </tr>\n",
       "    <tr>\n",
       "      <th>3</th>\n",
       "      <td>4</td>\n",
       "      <td>47</td>\n",
       "      <td>44</td>\n",
       "      <td>B</td>\n",
       "      <td>A</td>\n",
       "      <td>95352</td>\n",
       "      <td>Married</td>\n",
       "    </tr>\n",
       "    <tr>\n",
       "      <th>4</th>\n",
       "      <td>5</td>\n",
       "      <td>21</td>\n",
       "      <td>59</td>\n",
       "      <td>B</td>\n",
       "      <td>B</td>\n",
       "      <td>182138</td>\n",
       "      <td>Separated</td>\n",
       "    </tr>\n",
       "    <tr>\n",
       "      <th>5</th>\n",
       "      <td>6</td>\n",
       "      <td>37</td>\n",
       "      <td>32</td>\n",
       "      <td>B</td>\n",
       "      <td>A</td>\n",
       "      <td>76006</td>\n",
       "      <td>Married</td>\n",
       "    </tr>\n",
       "    <tr>\n",
       "      <th>6</th>\n",
       "      <td>7</td>\n",
       "      <td>38</td>\n",
       "      <td>31</td>\n",
       "      <td>A</td>\n",
       "      <td>B</td>\n",
       "      <td>22874</td>\n",
       "      <td>Married</td>\n",
       "    </tr>\n",
       "    <tr>\n",
       "      <th>7</th>\n",
       "      <td>8</td>\n",
       "      <td>31</td>\n",
       "      <td>26</td>\n",
       "      <td>B</td>\n",
       "      <td>A</td>\n",
       "      <td>100729</td>\n",
       "      <td>Married</td>\n",
       "    </tr>\n",
       "    <tr>\n",
       "      <th>8</th>\n",
       "      <td>9</td>\n",
       "      <td>62</td>\n",
       "      <td>36</td>\n",
       "      <td>B</td>\n",
       "      <td>A</td>\n",
       "      <td>23875</td>\n",
       "      <td>Divorced</td>\n",
       "    </tr>\n",
       "    <tr>\n",
       "      <th>9</th>\n",
       "      <td>10</td>\n",
       "      <td>56</td>\n",
       "      <td>55</td>\n",
       "      <td>B</td>\n",
       "      <td>A</td>\n",
       "      <td>182209</td>\n",
       "      <td>Married</td>\n",
       "    </tr>\n",
       "  </tbody>\n",
       "</table>\n",
       "</div>"
      ],
      "text/plain": [
       "   ID  GAGE  BAGE GP BP  AINCOME     STATUS\n",
       "0   1    41    41  A  B   113764    Married\n",
       "1   2    53    43  A  A   145963  Separated\n",
       "2   3    47    37  A  B    42857   Divorced\n",
       "3   4    47    44  B  A    95352    Married\n",
       "4   5    21    59  B  B   182138  Separated\n",
       "5   6    37    32  B  A    76006    Married\n",
       "6   7    38    31  A  B    22874    Married\n",
       "7   8    31    26  B  A   100729    Married\n",
       "8   9    62    36  B  A    23875   Divorced\n",
       "9  10    56    55  B  A   182209    Married"
      ]
     },
     "execution_count": 154,
     "metadata": {},
     "output_type": "execute_result"
    }
   ],
   "source": [
    "dataset.head(10)"
   ]
  },
  {
   "cell_type": "code",
   "execution_count": 186,
   "metadata": {},
   "outputs": [
    {
     "name": "stdout",
     "output_type": "stream",
     "text": [
      "number of rows are 750\n",
      "number of coulmns are 7\n"
     ]
    }
   ],
   "source": [
    "dataset=pd.DataFrame(dataset)\n",
    "print(\"number of rows are \"+str(len(data.axes[0])))\n",
    "print(\"number of coulmns are \"+str(len(data.axes[1])))"
   ]
  },
  {
   "cell_type": "code",
   "execution_count": 156,
   "metadata": {},
   "outputs": [],
   "source": [
    "#preprocessing the data\n",
    "#step 1\n",
    "dataset=dataset.drop_duplicates()\n",
    "#drop the duplicates"
   ]
  },
  {
   "cell_type": "code",
   "execution_count": null,
   "metadata": {},
   "outputs": [],
   "source": [
    "#step 2 removing outliers\n",
    "from scipy import stats\n",
    "\n",
    "def drop_numerical_outliers(df, z_thresh=3):\n",
    "    # Constrains will contain `True` or `False` depending on if it is a value below the threshold.\n",
    "    constrains = df.select_dtypes(include=[np.number]) \\\n",
    "        .apply(lambda x: np.abs(stats.zscore(x)) < z_thresh, reduce=False) \\\n",
    "        .all(axis=1)\n",
    "    # Drop (inplace) values set to be rejected\n",
    "    df.drop(df.index[~constrains], inplace=True)"
   ]
  },
  {
   "cell_type": "code",
   "execution_count": 157,
   "metadata": {},
   "outputs": [],
   "source": [
    "#step 3\n",
    "dataset=dataset.dropna()\n",
    "#drop the rows which are not assigned(empty)"
   ]
  },
  {
   "cell_type": "code",
   "execution_count": 158,
   "metadata": {},
   "outputs": [
    {
     "data": {
      "text/html": [
       "<div>\n",
       "<style scoped>\n",
       "    .dataframe tbody tr th:only-of-type {\n",
       "        vertical-align: middle;\n",
       "    }\n",
       "\n",
       "    .dataframe tbody tr th {\n",
       "        vertical-align: top;\n",
       "    }\n",
       "\n",
       "    .dataframe thead th {\n",
       "        text-align: right;\n",
       "    }\n",
       "</style>\n",
       "<table border=\"1\" class=\"dataframe\">\n",
       "  <thead>\n",
       "    <tr style=\"text-align: right;\">\n",
       "      <th></th>\n",
       "      <th>ID</th>\n",
       "      <th>GAGE</th>\n",
       "      <th>BAGE</th>\n",
       "      <th>GP</th>\n",
       "      <th>BP</th>\n",
       "      <th>AINCOME</th>\n",
       "      <th>STATUS</th>\n",
       "    </tr>\n",
       "  </thead>\n",
       "  <tbody>\n",
       "    <tr>\n",
       "      <th>0</th>\n",
       "      <td>1</td>\n",
       "      <td>41</td>\n",
       "      <td>41</td>\n",
       "      <td>0</td>\n",
       "      <td>1</td>\n",
       "      <td>113764</td>\n",
       "      <td>Married</td>\n",
       "    </tr>\n",
       "    <tr>\n",
       "      <th>1</th>\n",
       "      <td>2</td>\n",
       "      <td>53</td>\n",
       "      <td>43</td>\n",
       "      <td>0</td>\n",
       "      <td>0</td>\n",
       "      <td>145963</td>\n",
       "      <td>Separated</td>\n",
       "    </tr>\n",
       "    <tr>\n",
       "      <th>2</th>\n",
       "      <td>3</td>\n",
       "      <td>47</td>\n",
       "      <td>37</td>\n",
       "      <td>0</td>\n",
       "      <td>1</td>\n",
       "      <td>42857</td>\n",
       "      <td>Divorced</td>\n",
       "    </tr>\n",
       "    <tr>\n",
       "      <th>3</th>\n",
       "      <td>4</td>\n",
       "      <td>47</td>\n",
       "      <td>44</td>\n",
       "      <td>1</td>\n",
       "      <td>0</td>\n",
       "      <td>95352</td>\n",
       "      <td>Married</td>\n",
       "    </tr>\n",
       "    <tr>\n",
       "      <th>4</th>\n",
       "      <td>5</td>\n",
       "      <td>21</td>\n",
       "      <td>59</td>\n",
       "      <td>1</td>\n",
       "      <td>1</td>\n",
       "      <td>182138</td>\n",
       "      <td>Separated</td>\n",
       "    </tr>\n",
       "  </tbody>\n",
       "</table>\n",
       "</div>"
      ],
      "text/plain": [
       "   ID  GAGE  BAGE  GP  BP  AINCOME     STATUS\n",
       "0   1    41    41   0   1   113764    Married\n",
       "1   2    53    43   0   0   145963  Separated\n",
       "2   3    47    37   0   1    42857   Divorced\n",
       "3   4    47    44   1   0    95352    Married\n",
       "4   5    21    59   1   1   182138  Separated"
      ]
     },
     "execution_count": 158,
     "metadata": {},
     "output_type": "execute_result"
    }
   ],
   "source": [
    "#step 4\n",
    "from sklearn.preprocessing import LabelEncoder\n",
    "Lab = LabelEncoder()\n",
    "dataset['GP']= Lab.fit_transform(dataset['GP'])\n",
    "dataset['BP']= Lab.fit_transform(dataset['BP'])\n",
    "dataset.head()"
   ]
  },
  {
   "cell_type": "code",
   "execution_count": 188,
   "metadata": {},
   "outputs": [],
   "source": [
    "###### decide which type of learning we should use ############\n",
    "     # if we observe the data has class label (STATUS) so we go should for supervised learning(It is like learning with a teacher)"
   ]
  },
  {
   "cell_type": "code",
   "execution_count": 159,
   "metadata": {},
   "outputs": [],
   "source": [
    "dataset['STATUS']= Lab.fit_transform(dataset['STATUS'])\n"
   ]
  },
  {
   "cell_type": "code",
   "execution_count": 160,
   "metadata": {},
   "outputs": [
    {
     "data": {
      "text/html": [
       "<div>\n",
       "<style scoped>\n",
       "    .dataframe tbody tr th:only-of-type {\n",
       "        vertical-align: middle;\n",
       "    }\n",
       "\n",
       "    .dataframe tbody tr th {\n",
       "        vertical-align: top;\n",
       "    }\n",
       "\n",
       "    .dataframe thead th {\n",
       "        text-align: right;\n",
       "    }\n",
       "</style>\n",
       "<table border=\"1\" class=\"dataframe\">\n",
       "  <thead>\n",
       "    <tr style=\"text-align: right;\">\n",
       "      <th></th>\n",
       "      <th>ID</th>\n",
       "      <th>GAGE</th>\n",
       "      <th>BAGE</th>\n",
       "      <th>GP</th>\n",
       "      <th>BP</th>\n",
       "      <th>AINCOME</th>\n",
       "      <th>STATUS</th>\n",
       "    </tr>\n",
       "  </thead>\n",
       "  <tbody>\n",
       "    <tr>\n",
       "      <th>0</th>\n",
       "      <td>1</td>\n",
       "      <td>41</td>\n",
       "      <td>41</td>\n",
       "      <td>0</td>\n",
       "      <td>1</td>\n",
       "      <td>113764</td>\n",
       "      <td>1</td>\n",
       "    </tr>\n",
       "    <tr>\n",
       "      <th>1</th>\n",
       "      <td>2</td>\n",
       "      <td>53</td>\n",
       "      <td>43</td>\n",
       "      <td>0</td>\n",
       "      <td>0</td>\n",
       "      <td>145963</td>\n",
       "      <td>2</td>\n",
       "    </tr>\n",
       "    <tr>\n",
       "      <th>2</th>\n",
       "      <td>3</td>\n",
       "      <td>47</td>\n",
       "      <td>37</td>\n",
       "      <td>0</td>\n",
       "      <td>1</td>\n",
       "      <td>42857</td>\n",
       "      <td>0</td>\n",
       "    </tr>\n",
       "    <tr>\n",
       "      <th>3</th>\n",
       "      <td>4</td>\n",
       "      <td>47</td>\n",
       "      <td>44</td>\n",
       "      <td>1</td>\n",
       "      <td>0</td>\n",
       "      <td>95352</td>\n",
       "      <td>1</td>\n",
       "    </tr>\n",
       "    <tr>\n",
       "      <th>4</th>\n",
       "      <td>5</td>\n",
       "      <td>21</td>\n",
       "      <td>59</td>\n",
       "      <td>1</td>\n",
       "      <td>1</td>\n",
       "      <td>182138</td>\n",
       "      <td>2</td>\n",
       "    </tr>\n",
       "  </tbody>\n",
       "</table>\n",
       "</div>"
      ],
      "text/plain": [
       "   ID  GAGE  BAGE  GP  BP  AINCOME  STATUS\n",
       "0   1    41    41   0   1   113764       1\n",
       "1   2    53    43   0   0   145963       2\n",
       "2   3    47    37   0   1    42857       0\n",
       "3   4    47    44   1   0    95352       1\n",
       "4   5    21    59   1   1   182138       2"
      ]
     },
     "execution_count": 160,
     "metadata": {},
     "output_type": "execute_result"
    }
   ],
   "source": [
    "dataset.head()"
   ]
  },
  {
   "cell_type": "code",
   "execution_count": 161,
   "metadata": {},
   "outputs": [],
   "source": [
    "y=dataset.STATUS\n",
    "x=dataset.drop([\"STATUS\",\"ID\"],axis=\"columns\")\n",
    "#having id is of no use ,so we are removing it from our dataframe\n",
    "#since status is our target variable we are removing from input data\n",
    "#removing target attribute from inputs\n"
   ]
  },
  {
   "cell_type": "code",
   "execution_count": 162,
   "metadata": {},
   "outputs": [
    {
     "data": {
      "text/html": [
       "<div>\n",
       "<style scoped>\n",
       "    .dataframe tbody tr th:only-of-type {\n",
       "        vertical-align: middle;\n",
       "    }\n",
       "\n",
       "    .dataframe tbody tr th {\n",
       "        vertical-align: top;\n",
       "    }\n",
       "\n",
       "    .dataframe thead th {\n",
       "        text-align: right;\n",
       "    }\n",
       "</style>\n",
       "<table border=\"1\" class=\"dataframe\">\n",
       "  <thead>\n",
       "    <tr style=\"text-align: right;\">\n",
       "      <th></th>\n",
       "      <th>GAGE</th>\n",
       "      <th>BAGE</th>\n",
       "      <th>GP</th>\n",
       "      <th>BP</th>\n",
       "      <th>AINCOME</th>\n",
       "    </tr>\n",
       "  </thead>\n",
       "  <tbody>\n",
       "    <tr>\n",
       "      <th>0</th>\n",
       "      <td>41</td>\n",
       "      <td>41</td>\n",
       "      <td>0</td>\n",
       "      <td>1</td>\n",
       "      <td>113764</td>\n",
       "    </tr>\n",
       "    <tr>\n",
       "      <th>1</th>\n",
       "      <td>53</td>\n",
       "      <td>43</td>\n",
       "      <td>0</td>\n",
       "      <td>0</td>\n",
       "      <td>145963</td>\n",
       "    </tr>\n",
       "    <tr>\n",
       "      <th>2</th>\n",
       "      <td>47</td>\n",
       "      <td>37</td>\n",
       "      <td>0</td>\n",
       "      <td>1</td>\n",
       "      <td>42857</td>\n",
       "    </tr>\n",
       "    <tr>\n",
       "      <th>3</th>\n",
       "      <td>47</td>\n",
       "      <td>44</td>\n",
       "      <td>1</td>\n",
       "      <td>0</td>\n",
       "      <td>95352</td>\n",
       "    </tr>\n",
       "    <tr>\n",
       "      <th>4</th>\n",
       "      <td>21</td>\n",
       "      <td>59</td>\n",
       "      <td>1</td>\n",
       "      <td>1</td>\n",
       "      <td>182138</td>\n",
       "    </tr>\n",
       "  </tbody>\n",
       "</table>\n",
       "</div>"
      ],
      "text/plain": [
       "   GAGE  BAGE  GP  BP  AINCOME\n",
       "0    41    41   0   1   113764\n",
       "1    53    43   0   0   145963\n",
       "2    47    37   0   1    42857\n",
       "3    47    44   1   0    95352\n",
       "4    21    59   1   1   182138"
      ]
     },
     "execution_count": 162,
     "metadata": {},
     "output_type": "execute_result"
    }
   ],
   "source": [
    "x.head()"
   ]
  },
  {
   "cell_type": "code",
   "execution_count": 163,
   "metadata": {},
   "outputs": [
    {
     "data": {
      "text/plain": [
       "0    1\n",
       "1    2\n",
       "2    0\n",
       "3    1\n",
       "4    2\n",
       "Name: STATUS, dtype: int32"
      ]
     },
     "execution_count": 163,
     "metadata": {},
     "output_type": "execute_result"
    }
   ],
   "source": [
    "y.head()"
   ]
  },
  {
   "cell_type": "code",
   "execution_count": 164,
   "metadata": {},
   "outputs": [],
   "source": [
    "from sklearn.model_selection import train_test_split\n",
    "X_train,X_test,Y_train,Y_test=train_test_split(x,y,test_size=0.25)\n",
    "#here we are spliting our data in to train and test data\n",
    "#traindata=75% of data\n",
    "#testdata=25% of data\n",
    "#the main reason we split the data in to test and train is we use train data to  build the model and we test data to check the accuracy of our model."
   ]
  },
  {
   "cell_type": "code",
   "execution_count": 165,
   "metadata": {},
   "outputs": [],
   "source": [
    "######  BUILDING NAIVE BAYES CLASSIFIER #######\n",
    "\n",
    "\n",
    "from sklearn.naive_bayes import GaussianNB \n",
    "gnb = GaussianNB() \n",
    "gnb.fit(X_train, Y_train) \n",
    "  \n",
    "# making predictions on the testing set \n",
    "Y_pred = gnb.predict(X_test) "
   ]
  },
  {
   "cell_type": "code",
   "execution_count": 166,
   "metadata": {},
   "outputs": [
    {
     "data": {
      "text/plain": [
       "array([1, 1, 1, 2, 2, 2, 2, 2, 2, 0, 0, 1, 2, 2, 1, 2, 2, 0, 1, 2, 0, 0,\n",
       "       1, 1, 2, 1, 1, 0, 2, 1, 0, 0, 2, 0, 2, 2, 2, 1, 2, 2, 0, 0, 2, 2,\n",
       "       2, 2, 2, 2, 2, 2, 2, 2, 1, 0, 2, 0, 2, 2, 0, 2, 1, 2, 1, 2, 0, 2,\n",
       "       2, 2, 2, 1, 2, 2, 1, 1, 0, 0, 2, 1, 2, 1, 2, 1, 2, 2, 1, 1, 1, 2,\n",
       "       0, 2, 2, 2, 1, 2, 2, 0, 2, 1, 0, 0, 2, 1, 2, 2, 1, 0, 2, 0, 1, 0,\n",
       "       2, 2, 2, 0, 2, 2, 1, 2, 2, 2, 2, 0, 2, 0, 2, 1, 2, 0, 2, 2, 0, 1,\n",
       "       2, 1, 0, 2, 2, 2, 0, 1, 1, 2, 2, 2, 2, 2, 0, 0, 2, 0, 1, 1, 1, 2,\n",
       "       2, 1, 1, 1, 2, 0, 2, 2, 0, 2, 0, 1, 2, 2, 2, 1, 2, 2, 1, 1, 2, 0,\n",
       "       0, 0, 1, 2, 0, 2, 2, 0, 2, 0, 2, 2])"
      ]
     },
     "execution_count": 166,
     "metadata": {},
     "output_type": "execute_result"
    }
   ],
   "source": [
    "y_pred"
   ]
  },
  {
   "cell_type": "code",
   "execution_count": 167,
   "metadata": {},
   "outputs": [
    {
     "data": {
      "text/plain": [
       "array([[ 0,  0,  0],\n",
       "       [ 0,  0,  0],\n",
       "       [34, 62, 92]], dtype=int64)"
      ]
     },
     "execution_count": 167,
     "metadata": {},
     "output_type": "execute_result"
    }
   ],
   "source": [
    "from sklearn.metrics import confusion_matrix\n",
    "\n",
    "confusion_matrix(Y_pred,Y_test)\n",
    "\n",
    "#The number of correct and incorrect predictions are summarized with count values and broken down by each class is given by confusion matrix"
   ]
  },
  {
   "cell_type": "code",
   "execution_count": 168,
   "metadata": {},
   "outputs": [
    {
     "name": "stdout",
     "output_type": "stream",
     "text": [
      "accuracy of naivebayesscore model is \n"
     ]
    },
    {
     "data": {
      "text/plain": [
       "0.48936170212765956"
      ]
     },
     "execution_count": 168,
     "metadata": {},
     "output_type": "execute_result"
    }
   ],
   "source": [
    "from sklearn.metrics import accuracy_score\n",
    "\n",
    "naivebayesscore=accuracy_score(Y_test,Y_pred)\n",
    "\n",
    "#accuracy is the fraction of predictions our model got right.\n",
    "\n",
    "print(\"accuracy of naivebayesscore model is \")\n",
    "naivebayesscore"
   ]
  },
  {
   "cell_type": "code",
   "execution_count": 169,
   "metadata": {},
   "outputs": [
    {
     "data": {
      "text/plain": [
       "DecisionTreeClassifier(class_weight=None, criterion='gini', max_depth=None,\n",
       "                       max_features=None, max_leaf_nodes=None,\n",
       "                       min_impurity_decrease=0.0, min_impurity_split=None,\n",
       "                       min_samples_leaf=1, min_samples_split=2,\n",
       "                       min_weight_fraction_leaf=0.0, presort=False,\n",
       "                       random_state=None, splitter='best')"
      ]
     },
     "execution_count": 169,
     "metadata": {},
     "output_type": "execute_result"
    }
   ],
   "source": [
    "############ BUILDING DECISION TREE CLASSIFIER ###############\n",
    "from sklearn.tree import DecisionTreeClassifier\n",
    "dt = DecisionTreeClassifier()\n",
    "dt.fit(X_train, Y_train)"
   ]
  },
  {
   "cell_type": "code",
   "execution_count": 170,
   "metadata": {},
   "outputs": [
    {
     "data": {
      "text/plain": [
       "array([2, 1, 2, 2, 2, 2, 2, 2, 0, 2, 1, 0, 2, 2, 1, 1, 0, 2, 2, 0, 1, 1,\n",
       "       2, 2, 2, 2, 2, 2, 2, 1, 0, 2, 2, 2, 2, 2, 2, 0, 2, 2, 1, 1, 1, 1,\n",
       "       2, 1, 1, 1, 2, 0, 1, 1, 2, 2, 2, 0, 2, 1, 1, 1, 2, 0, 2, 1, 1, 1,\n",
       "       2, 0, 1, 2, 2, 2, 2, 2, 1, 2, 2, 2, 2, 1, 2, 2, 2, 1, 1, 2, 2, 2,\n",
       "       1, 2, 2, 1, 1, 2, 2, 1, 2, 1, 0, 0, 2, 2, 1, 0, 1, 2, 2, 0, 2, 0,\n",
       "       2, 1, 1, 1, 1, 0, 1, 2, 2, 2, 2, 1, 2, 1, 2, 2, 1, 2, 1, 2, 2, 2,\n",
       "       2, 2, 2, 2, 2, 2, 1, 2, 0, 2, 1, 1, 2, 0, 1, 1, 0, 2, 1, 2, 2, 2,\n",
       "       2, 0, 2, 2, 2, 2, 0, 0, 0, 1, 1, 0, 2, 2, 2, 1, 1, 2, 0, 1, 2, 2,\n",
       "       1, 0, 1, 0, 2, 1, 2, 1, 2, 1, 0, 2])"
      ]
     },
     "execution_count": 170,
     "metadata": {},
     "output_type": "execute_result"
    }
   ],
   "source": [
    "Y_pred = dt.predict(X_test)\n",
    "Y_pred"
   ]
  },
  {
   "cell_type": "code",
   "execution_count": 171,
   "metadata": {},
   "outputs": [
    {
     "name": "stdout",
     "output_type": "stream",
     "text": [
      "confusion matrix for decision tree model\n"
     ]
    },
    {
     "data": {
      "text/plain": [
       "array([[16,  4,  8],\n",
       "       [ 5, 30, 24],\n",
       "       [13, 28, 60]], dtype=int64)"
      ]
     },
     "execution_count": 171,
     "metadata": {},
     "output_type": "execute_result"
    }
   ],
   "source": [
    "print (\"confusion matrix for decision tree model\")\n",
    "confusion_matrix(Y_pred,Y_test)"
   ]
  },
  {
   "cell_type": "code",
   "execution_count": 172,
   "metadata": {},
   "outputs": [
    {
     "name": "stdout",
     "output_type": "stream",
     "text": [
      "accuracy of  model using decison tree is \n"
     ]
    },
    {
     "data": {
      "text/plain": [
       "0.5638297872340425"
      ]
     },
     "execution_count": 172,
     "metadata": {},
     "output_type": "execute_result"
    }
   ],
   "source": [
    "decisiontreescore=accuracy_score(Y_test,Y_pred)\n",
    "print(\"accuracy of  model using decison tree is \")\n",
    "decisiontreescore"
   ]
  },
  {
   "cell_type": "code",
   "execution_count": 173,
   "metadata": {},
   "outputs": [
    {
     "data": {
      "text/plain": [
       "KNeighborsClassifier(algorithm='auto', leaf_size=30, metric='minkowski',\n",
       "                     metric_params=None, n_jobs=None, n_neighbors=5, p=2,\n",
       "                     weights='uniform')"
      ]
     },
     "execution_count": 173,
     "metadata": {},
     "output_type": "execute_result"
    }
   ],
   "source": [
    "##### BUILDING A MODEL USING KNN ##############\n",
    "\n",
    "\n",
    "\n",
    "from sklearn.neighbors import KNeighborsClassifier\n",
    "classifier = KNeighborsClassifier(n_neighbors=5)\n",
    "classifier.fit(X_train, Y_train)"
   ]
  },
  {
   "cell_type": "code",
   "execution_count": 174,
   "metadata": {},
   "outputs": [
    {
     "name": "stdout",
     "output_type": "stream",
     "text": [
      "confusion matrix for decision tree model\n"
     ]
    },
    {
     "data": {
      "text/plain": [
       "array([[ 7,  7, 18],\n",
       "       [12, 15, 31],\n",
       "       [15, 40, 43]], dtype=int64)"
      ]
     },
     "execution_count": 174,
     "metadata": {},
     "output_type": "execute_result"
    }
   ],
   "source": [
    "Y_pred = classifier.predict(X_test)\n",
    "print (\"confusion matrix for decision tree model\")\n",
    "confusion_matrix(Y_pred,Y_test)"
   ]
  },
  {
   "cell_type": "code",
   "execution_count": 175,
   "metadata": {},
   "outputs": [
    {
     "name": "stdout",
     "output_type": "stream",
     "text": [
      "accuracy of  model using KNN is \n"
     ]
    },
    {
     "data": {
      "text/plain": [
       "0.34574468085106386"
      ]
     },
     "execution_count": 175,
     "metadata": {},
     "output_type": "execute_result"
    }
   ],
   "source": [
    "KnnScore=accuracy_score(Y_test,Y_pred)\n",
    "print(\"accuracy of  model using KNN is \")\n",
    "KnnScore"
   ]
  },
  {
   "cell_type": "code",
   "execution_count": 176,
   "metadata": {},
   "outputs": [
    {
     "data": {
      "text/plain": [
       "RandomForestClassifier(bootstrap=True, class_weight=None, criterion='gini',\n",
       "                       max_depth=None, max_features='auto', max_leaf_nodes=None,\n",
       "                       min_impurity_decrease=0.0, min_impurity_split=None,\n",
       "                       min_samples_leaf=1, min_samples_split=2,\n",
       "                       min_weight_fraction_leaf=0.0, n_estimators=200,\n",
       "                       n_jobs=None, oob_score=False, random_state=0, verbose=0,\n",
       "                       warm_start=False)"
      ]
     },
     "execution_count": 176,
     "metadata": {},
     "output_type": "execute_result"
    }
   ],
   "source": [
    " ######## BUILDING A MODEL USING RANDOMFORESTCLASSIFIER #################\n",
    "\n",
    "\n",
    "\n",
    "\n",
    "from sklearn.ensemble import RandomForestClassifier\n",
    "model=RandomForestClassifier(n_estimators=200,random_state=0)\n",
    "model.fit(X_train,Y_train)\n",
    "#building the model"
   ]
  },
  {
   "cell_type": "code",
   "execution_count": 177,
   "metadata": {},
   "outputs": [
    {
     "data": {
      "text/plain": [
       "array([2, 2, 2, 2, 1, 0, 1, 2, 1, 2, 2, 2, 1, 2, 2, 1, 0, 2, 1, 1, 1, 2,\n",
       "       2, 2, 2, 2, 0, 2, 0, 2, 0, 2, 2, 2, 1, 1, 0, 0, 1, 1, 1, 1, 2, 1,\n",
       "       2, 2, 2, 1, 2, 0, 1, 1, 2, 2, 1, 2, 1, 2, 1, 2, 2, 2, 2, 1, 1, 1,\n",
       "       2, 0, 1, 2, 1, 2, 2, 2, 2, 1, 2, 0, 2, 2, 1, 2, 1, 2, 2, 1, 0, 2,\n",
       "       2, 0, 1, 2, 1, 1, 0, 1, 1, 1, 0, 0, 2, 2, 1, 2, 1, 2, 1, 2, 2, 1,\n",
       "       2, 1, 1, 1, 1, 0, 1, 0, 2, 2, 2, 1, 2, 2, 2, 1, 1, 0, 2, 2, 2, 2,\n",
       "       2, 2, 2, 2, 1, 2, 1, 2, 0, 2, 2, 1, 2, 2, 1, 1, 0, 1, 1, 1, 0, 2,\n",
       "       2, 0, 2, 2, 2, 2, 0, 1, 0, 1, 1, 0, 2, 1, 1, 2, 1, 2, 2, 2, 1, 2,\n",
       "       2, 0, 2, 2, 1, 2, 1, 1, 2, 1, 0, 1])"
      ]
     },
     "execution_count": 177,
     "metadata": {},
     "output_type": "execute_result"
    }
   ],
   "source": [
    "Y_predict=model.predict(X_test)\n",
    "Y_predict\n",
    "#predicting by giving test data as input"
   ]
  },
  {
   "cell_type": "code",
   "execution_count": 178,
   "metadata": {},
   "outputs": [
    {
     "data": {
      "text/plain": [
       "array([[26,  1,  0],\n",
       "       [ 8, 60,  0],\n",
       "       [ 0,  1, 92]], dtype=int64)"
      ]
     },
     "execution_count": 178,
     "metadata": {},
     "output_type": "execute_result"
    }
   ],
   "source": [
    "\n",
    "confusion_matrix(Y_predict,Y_test)\n",
    "#confusion matrix"
   ]
  },
  {
   "cell_type": "code",
   "execution_count": 179,
   "metadata": {},
   "outputs": [
    {
     "name": "stdout",
     "output_type": "stream",
     "text": [
      "accuracy of randomforest model is\n"
     ]
    },
    {
     "data": {
      "text/plain": [
       "0.9468085106382979"
      ]
     },
     "execution_count": 179,
     "metadata": {},
     "output_type": "execute_result"
    }
   ],
   "source": [
    "\n",
    "randomforestscore=accuracy_score(Y_test,Y_predict)\n",
    "\n",
    "print(\"accuracy of randomforest model is\") \n",
    "randomforestscore\n",
    "#checking the accuracy of our model"
   ]
  },
  {
   "cell_type": "code",
   "execution_count": 180,
   "metadata": {},
   "outputs": [
    {
     "name": "stdout",
     "output_type": "stream",
     "text": [
      "accuracy of naivebayesscore model is  0.48936170212765956\n",
      "accuracy of  model using decison tree is  0.5638297872340425\n",
      "accuracy of  model using KNN is  0.34574468085106386\n",
      "accuracy of randomforest model is 0.9468085106382979\n"
     ]
    }
   ],
   "source": [
    "######################SUMMARY ######################\n",
    "print(\"accuracy of naivebayesscore model is \",naivebayesscore)\n",
    "\n",
    "print(\"accuracy of  model using decison tree is \",decisiontreescore)\n",
    "\n",
    "\n",
    "print(\"accuracy of  model using KNN is \",KnnScore)\n",
    "\n",
    "\n",
    "print(\"accuracy of randomforest model is\",randomforestscore) \n",
    "\n",
    "\n",
    "#note :we bulid many models but randomforest gave us best so we can deploy in our application"
   ]
  },
  {
   "cell_type": "code",
   "execution_count": 151,
   "metadata": {},
   "outputs": [],
   "source": [
    "#we observe that model bulit using knn algorithm is least accurate\n",
    "#we observe that model build using random forest algorithm is more accurate than remaining models\n",
    "\n",
    "\n",
    "\n",
    "####### REASON WHY RANDOM FOREST MODEL GOT HIGHER ACCURACY ##########\n",
    "# 1) firstly ,it is an ensemble learning\n",
    "# 2)It takes average of all decision trees of which it has built\n",
    "# 3)It has got certain implict methods which removes all the outliers and all the noisy data\n",
    "# 4)And if we observe the computational time taken by the model is also very less because all the decisions trees will be grown in parallel.\n"
   ]
  },
  {
   "cell_type": "code",
   "execution_count": null,
   "metadata": {},
   "outputs": [],
   "source": []
  },
  {
   "cell_type": "code",
   "execution_count": null,
   "metadata": {},
   "outputs": [],
   "source": []
  }
 ],
 "metadata": {
  "kernelspec": {
   "display_name": "Python 3",
   "language": "python",
   "name": "python3"
  },
  "language_info": {
   "codemirror_mode": {
    "name": "ipython",
    "version": 3
   },
   "file_extension": ".py",
   "mimetype": "text/x-python",
   "name": "python",
   "nbconvert_exporter": "python",
   "pygments_lexer": "ipython3",
   "version": "3.7.3"
  }
 },
 "nbformat": 4,
 "nbformat_minor": 2
}
